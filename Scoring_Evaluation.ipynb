{
  "nbformat": 4,
  "nbformat_minor": 0,
  "metadata": {
    "colab": {
      "provenance": []
    },
    "kernelspec": {
      "name": "python3",
      "display_name": "Python 3"
    },
    "language_info": {
      "name": "python"
    },
    "widgets": {
      "application/vnd.jupyter.widget-state+json": {
        "f272e4d3ecdb4f5d90133a282dbf7572": {
          "model_module": "@jupyter-widgets/controls",
          "model_name": "HBoxModel",
          "model_module_version": "1.5.0",
          "state": {
            "_dom_classes": [],
            "_model_module": "@jupyter-widgets/controls",
            "_model_module_version": "1.5.0",
            "_model_name": "HBoxModel",
            "_view_count": null,
            "_view_module": "@jupyter-widgets/controls",
            "_view_module_version": "1.5.0",
            "_view_name": "HBoxView",
            "box_style": "",
            "children": [
              "IPY_MODEL_d14c35fe7f9841ce851a1c48d64a12a2",
              "IPY_MODEL_49b9b21d86d644b6aca623d030e3e7b0",
              "IPY_MODEL_fe1c34a25dae4766a8a975eabc1b9d97"
            ],
            "layout": "IPY_MODEL_841798526d7c41ad8c4ac71b20bbaf46"
          }
        },
        "d14c35fe7f9841ce851a1c48d64a12a2": {
          "model_module": "@jupyter-widgets/controls",
          "model_name": "HTMLModel",
          "model_module_version": "1.5.0",
          "state": {
            "_dom_classes": [],
            "_model_module": "@jupyter-widgets/controls",
            "_model_module_version": "1.5.0",
            "_model_name": "HTMLModel",
            "_view_count": null,
            "_view_module": "@jupyter-widgets/controls",
            "_view_module_version": "1.5.0",
            "_view_name": "HTMLView",
            "description": "",
            "description_tooltip": null,
            "layout": "IPY_MODEL_42123dabd5004dc999247cfe6e122192",
            "placeholder": "​",
            "style": "IPY_MODEL_83c13bc64eb04bd481f047a341d102c9",
            "value": "Fetching 4 files: 100%"
          }
        },
        "49b9b21d86d644b6aca623d030e3e7b0": {
          "model_module": "@jupyter-widgets/controls",
          "model_name": "FloatProgressModel",
          "model_module_version": "1.5.0",
          "state": {
            "_dom_classes": [],
            "_model_module": "@jupyter-widgets/controls",
            "_model_module_version": "1.5.0",
            "_model_name": "FloatProgressModel",
            "_view_count": null,
            "_view_module": "@jupyter-widgets/controls",
            "_view_module_version": "1.5.0",
            "_view_name": "ProgressView",
            "bar_style": "success",
            "description": "",
            "description_tooltip": null,
            "layout": "IPY_MODEL_9912dcb8494748a6aa1fbb68a834073f",
            "max": 4,
            "min": 0,
            "orientation": "horizontal",
            "style": "IPY_MODEL_e0e7385ca22b432fbe8bb920a9ef5f53",
            "value": 4
          }
        },
        "fe1c34a25dae4766a8a975eabc1b9d97": {
          "model_module": "@jupyter-widgets/controls",
          "model_name": "HTMLModel",
          "model_module_version": "1.5.0",
          "state": {
            "_dom_classes": [],
            "_model_module": "@jupyter-widgets/controls",
            "_model_module_version": "1.5.0",
            "_model_name": "HTMLModel",
            "_view_count": null,
            "_view_module": "@jupyter-widgets/controls",
            "_view_module_version": "1.5.0",
            "_view_name": "HTMLView",
            "description": "",
            "description_tooltip": null,
            "layout": "IPY_MODEL_8666033e7a90444191128020531f05a8",
            "placeholder": "​",
            "style": "IPY_MODEL_1fef488ff0ca48e98724c65ea7884345",
            "value": " 4/4 [00:00&lt;00:00, 208.84it/s]"
          }
        },
        "841798526d7c41ad8c4ac71b20bbaf46": {
          "model_module": "@jupyter-widgets/base",
          "model_name": "LayoutModel",
          "model_module_version": "1.2.0",
          "state": {
            "_model_module": "@jupyter-widgets/base",
            "_model_module_version": "1.2.0",
            "_model_name": "LayoutModel",
            "_view_count": null,
            "_view_module": "@jupyter-widgets/base",
            "_view_module_version": "1.2.0",
            "_view_name": "LayoutView",
            "align_content": null,
            "align_items": null,
            "align_self": null,
            "border": null,
            "bottom": null,
            "display": null,
            "flex": null,
            "flex_flow": null,
            "grid_area": null,
            "grid_auto_columns": null,
            "grid_auto_flow": null,
            "grid_auto_rows": null,
            "grid_column": null,
            "grid_gap": null,
            "grid_row": null,
            "grid_template_areas": null,
            "grid_template_columns": null,
            "grid_template_rows": null,
            "height": null,
            "justify_content": null,
            "justify_items": null,
            "left": null,
            "margin": null,
            "max_height": null,
            "max_width": null,
            "min_height": null,
            "min_width": null,
            "object_fit": null,
            "object_position": null,
            "order": null,
            "overflow": null,
            "overflow_x": null,
            "overflow_y": null,
            "padding": null,
            "right": null,
            "top": null,
            "visibility": null,
            "width": null
          }
        },
        "42123dabd5004dc999247cfe6e122192": {
          "model_module": "@jupyter-widgets/base",
          "model_name": "LayoutModel",
          "model_module_version": "1.2.0",
          "state": {
            "_model_module": "@jupyter-widgets/base",
            "_model_module_version": "1.2.0",
            "_model_name": "LayoutModel",
            "_view_count": null,
            "_view_module": "@jupyter-widgets/base",
            "_view_module_version": "1.2.0",
            "_view_name": "LayoutView",
            "align_content": null,
            "align_items": null,
            "align_self": null,
            "border": null,
            "bottom": null,
            "display": null,
            "flex": null,
            "flex_flow": null,
            "grid_area": null,
            "grid_auto_columns": null,
            "grid_auto_flow": null,
            "grid_auto_rows": null,
            "grid_column": null,
            "grid_gap": null,
            "grid_row": null,
            "grid_template_areas": null,
            "grid_template_columns": null,
            "grid_template_rows": null,
            "height": null,
            "justify_content": null,
            "justify_items": null,
            "left": null,
            "margin": null,
            "max_height": null,
            "max_width": null,
            "min_height": null,
            "min_width": null,
            "object_fit": null,
            "object_position": null,
            "order": null,
            "overflow": null,
            "overflow_x": null,
            "overflow_y": null,
            "padding": null,
            "right": null,
            "top": null,
            "visibility": null,
            "width": null
          }
        },
        "83c13bc64eb04bd481f047a341d102c9": {
          "model_module": "@jupyter-widgets/controls",
          "model_name": "DescriptionStyleModel",
          "model_module_version": "1.5.0",
          "state": {
            "_model_module": "@jupyter-widgets/controls",
            "_model_module_version": "1.5.0",
            "_model_name": "DescriptionStyleModel",
            "_view_count": null,
            "_view_module": "@jupyter-widgets/base",
            "_view_module_version": "1.2.0",
            "_view_name": "StyleView",
            "description_width": ""
          }
        },
        "9912dcb8494748a6aa1fbb68a834073f": {
          "model_module": "@jupyter-widgets/base",
          "model_name": "LayoutModel",
          "model_module_version": "1.2.0",
          "state": {
            "_model_module": "@jupyter-widgets/base",
            "_model_module_version": "1.2.0",
            "_model_name": "LayoutModel",
            "_view_count": null,
            "_view_module": "@jupyter-widgets/base",
            "_view_module_version": "1.2.0",
            "_view_name": "LayoutView",
            "align_content": null,
            "align_items": null,
            "align_self": null,
            "border": null,
            "bottom": null,
            "display": null,
            "flex": null,
            "flex_flow": null,
            "grid_area": null,
            "grid_auto_columns": null,
            "grid_auto_flow": null,
            "grid_auto_rows": null,
            "grid_column": null,
            "grid_gap": null,
            "grid_row": null,
            "grid_template_areas": null,
            "grid_template_columns": null,
            "grid_template_rows": null,
            "height": null,
            "justify_content": null,
            "justify_items": null,
            "left": null,
            "margin": null,
            "max_height": null,
            "max_width": null,
            "min_height": null,
            "min_width": null,
            "object_fit": null,
            "object_position": null,
            "order": null,
            "overflow": null,
            "overflow_x": null,
            "overflow_y": null,
            "padding": null,
            "right": null,
            "top": null,
            "visibility": null,
            "width": null
          }
        },
        "e0e7385ca22b432fbe8bb920a9ef5f53": {
          "model_module": "@jupyter-widgets/controls",
          "model_name": "ProgressStyleModel",
          "model_module_version": "1.5.0",
          "state": {
            "_model_module": "@jupyter-widgets/controls",
            "_model_module_version": "1.5.0",
            "_model_name": "ProgressStyleModel",
            "_view_count": null,
            "_view_module": "@jupyter-widgets/base",
            "_view_module_version": "1.2.0",
            "_view_name": "StyleView",
            "bar_color": null,
            "description_width": ""
          }
        },
        "8666033e7a90444191128020531f05a8": {
          "model_module": "@jupyter-widgets/base",
          "model_name": "LayoutModel",
          "model_module_version": "1.2.0",
          "state": {
            "_model_module": "@jupyter-widgets/base",
            "_model_module_version": "1.2.0",
            "_model_name": "LayoutModel",
            "_view_count": null,
            "_view_module": "@jupyter-widgets/base",
            "_view_module_version": "1.2.0",
            "_view_name": "LayoutView",
            "align_content": null,
            "align_items": null,
            "align_self": null,
            "border": null,
            "bottom": null,
            "display": null,
            "flex": null,
            "flex_flow": null,
            "grid_area": null,
            "grid_auto_columns": null,
            "grid_auto_flow": null,
            "grid_auto_rows": null,
            "grid_column": null,
            "grid_gap": null,
            "grid_row": null,
            "grid_template_areas": null,
            "grid_template_columns": null,
            "grid_template_rows": null,
            "height": null,
            "justify_content": null,
            "justify_items": null,
            "left": null,
            "margin": null,
            "max_height": null,
            "max_width": null,
            "min_height": null,
            "min_width": null,
            "object_fit": null,
            "object_position": null,
            "order": null,
            "overflow": null,
            "overflow_x": null,
            "overflow_y": null,
            "padding": null,
            "right": null,
            "top": null,
            "visibility": null,
            "width": null
          }
        },
        "1fef488ff0ca48e98724c65ea7884345": {
          "model_module": "@jupyter-widgets/controls",
          "model_name": "DescriptionStyleModel",
          "model_module_version": "1.5.0",
          "state": {
            "_model_module": "@jupyter-widgets/controls",
            "_model_module_version": "1.5.0",
            "_model_name": "DescriptionStyleModel",
            "_view_count": null,
            "_view_module": "@jupyter-widgets/base",
            "_view_module_version": "1.2.0",
            "_view_name": "StyleView",
            "description_width": ""
          }
        },
        "cb00ff594c554d42b9910729bbe5c4f4": {
          "model_module": "@jupyter-widgets/controls",
          "model_name": "HBoxModel",
          "model_module_version": "1.5.0",
          "state": {
            "_dom_classes": [],
            "_model_module": "@jupyter-widgets/controls",
            "_model_module_version": "1.5.0",
            "_model_name": "HBoxModel",
            "_view_count": null,
            "_view_module": "@jupyter-widgets/controls",
            "_view_module_version": "1.5.0",
            "_view_name": "HBoxView",
            "box_style": "",
            "children": [
              "IPY_MODEL_9b667281f05844fbb2f4632abb543876",
              "IPY_MODEL_7127ce0a63244b6983c2a3a45872b281",
              "IPY_MODEL_f307f95fad33413098acd845cb101714"
            ],
            "layout": "IPY_MODEL_495e025ed0fb47be976e8c03c17551e3"
          }
        },
        "9b667281f05844fbb2f4632abb543876": {
          "model_module": "@jupyter-widgets/controls",
          "model_name": "HTMLModel",
          "model_module_version": "1.5.0",
          "state": {
            "_dom_classes": [],
            "_model_module": "@jupyter-widgets/controls",
            "_model_module_version": "1.5.0",
            "_model_name": "HTMLModel",
            "_view_count": null,
            "_view_module": "@jupyter-widgets/controls",
            "_view_module_version": "1.5.0",
            "_view_name": "HTMLView",
            "description": "",
            "description_tooltip": null,
            "layout": "IPY_MODEL_125271657d4443b988b04ba8437a13d3",
            "placeholder": "​",
            "style": "IPY_MODEL_78262ae92261446c88a25a8298b50558",
            "value": "Fetching 4 files: 100%"
          }
        },
        "7127ce0a63244b6983c2a3a45872b281": {
          "model_module": "@jupyter-widgets/controls",
          "model_name": "FloatProgressModel",
          "model_module_version": "1.5.0",
          "state": {
            "_dom_classes": [],
            "_model_module": "@jupyter-widgets/controls",
            "_model_module_version": "1.5.0",
            "_model_name": "FloatProgressModel",
            "_view_count": null,
            "_view_module": "@jupyter-widgets/controls",
            "_view_module_version": "1.5.0",
            "_view_name": "ProgressView",
            "bar_style": "success",
            "description": "",
            "description_tooltip": null,
            "layout": "IPY_MODEL_6fe8521c16eb481f92b8acb9ded6d9a6",
            "max": 4,
            "min": 0,
            "orientation": "horizontal",
            "style": "IPY_MODEL_cece565bee834c8986d4e35a66b26bf7",
            "value": 4
          }
        },
        "f307f95fad33413098acd845cb101714": {
          "model_module": "@jupyter-widgets/controls",
          "model_name": "HTMLModel",
          "model_module_version": "1.5.0",
          "state": {
            "_dom_classes": [],
            "_model_module": "@jupyter-widgets/controls",
            "_model_module_version": "1.5.0",
            "_model_name": "HTMLModel",
            "_view_count": null,
            "_view_module": "@jupyter-widgets/controls",
            "_view_module_version": "1.5.0",
            "_view_name": "HTMLView",
            "description": "",
            "description_tooltip": null,
            "layout": "IPY_MODEL_4fdf67b429b2463c8e4008070ea1a707",
            "placeholder": "​",
            "style": "IPY_MODEL_4b2b541e4456426a989b5afde04719c6",
            "value": " 4/4 [00:00&lt;00:00, 120.62it/s]"
          }
        },
        "495e025ed0fb47be976e8c03c17551e3": {
          "model_module": "@jupyter-widgets/base",
          "model_name": "LayoutModel",
          "model_module_version": "1.2.0",
          "state": {
            "_model_module": "@jupyter-widgets/base",
            "_model_module_version": "1.2.0",
            "_model_name": "LayoutModel",
            "_view_count": null,
            "_view_module": "@jupyter-widgets/base",
            "_view_module_version": "1.2.0",
            "_view_name": "LayoutView",
            "align_content": null,
            "align_items": null,
            "align_self": null,
            "border": null,
            "bottom": null,
            "display": null,
            "flex": null,
            "flex_flow": null,
            "grid_area": null,
            "grid_auto_columns": null,
            "grid_auto_flow": null,
            "grid_auto_rows": null,
            "grid_column": null,
            "grid_gap": null,
            "grid_row": null,
            "grid_template_areas": null,
            "grid_template_columns": null,
            "grid_template_rows": null,
            "height": null,
            "justify_content": null,
            "justify_items": null,
            "left": null,
            "margin": null,
            "max_height": null,
            "max_width": null,
            "min_height": null,
            "min_width": null,
            "object_fit": null,
            "object_position": null,
            "order": null,
            "overflow": null,
            "overflow_x": null,
            "overflow_y": null,
            "padding": null,
            "right": null,
            "top": null,
            "visibility": null,
            "width": null
          }
        },
        "125271657d4443b988b04ba8437a13d3": {
          "model_module": "@jupyter-widgets/base",
          "model_name": "LayoutModel",
          "model_module_version": "1.2.0",
          "state": {
            "_model_module": "@jupyter-widgets/base",
            "_model_module_version": "1.2.0",
            "_model_name": "LayoutModel",
            "_view_count": null,
            "_view_module": "@jupyter-widgets/base",
            "_view_module_version": "1.2.0",
            "_view_name": "LayoutView",
            "align_content": null,
            "align_items": null,
            "align_self": null,
            "border": null,
            "bottom": null,
            "display": null,
            "flex": null,
            "flex_flow": null,
            "grid_area": null,
            "grid_auto_columns": null,
            "grid_auto_flow": null,
            "grid_auto_rows": null,
            "grid_column": null,
            "grid_gap": null,
            "grid_row": null,
            "grid_template_areas": null,
            "grid_template_columns": null,
            "grid_template_rows": null,
            "height": null,
            "justify_content": null,
            "justify_items": null,
            "left": null,
            "margin": null,
            "max_height": null,
            "max_width": null,
            "min_height": null,
            "min_width": null,
            "object_fit": null,
            "object_position": null,
            "order": null,
            "overflow": null,
            "overflow_x": null,
            "overflow_y": null,
            "padding": null,
            "right": null,
            "top": null,
            "visibility": null,
            "width": null
          }
        },
        "78262ae92261446c88a25a8298b50558": {
          "model_module": "@jupyter-widgets/controls",
          "model_name": "DescriptionStyleModel",
          "model_module_version": "1.5.0",
          "state": {
            "_model_module": "@jupyter-widgets/controls",
            "_model_module_version": "1.5.0",
            "_model_name": "DescriptionStyleModel",
            "_view_count": null,
            "_view_module": "@jupyter-widgets/base",
            "_view_module_version": "1.2.0",
            "_view_name": "StyleView",
            "description_width": ""
          }
        },
        "6fe8521c16eb481f92b8acb9ded6d9a6": {
          "model_module": "@jupyter-widgets/base",
          "model_name": "LayoutModel",
          "model_module_version": "1.2.0",
          "state": {
            "_model_module": "@jupyter-widgets/base",
            "_model_module_version": "1.2.0",
            "_model_name": "LayoutModel",
            "_view_count": null,
            "_view_module": "@jupyter-widgets/base",
            "_view_module_version": "1.2.0",
            "_view_name": "LayoutView",
            "align_content": null,
            "align_items": null,
            "align_self": null,
            "border": null,
            "bottom": null,
            "display": null,
            "flex": null,
            "flex_flow": null,
            "grid_area": null,
            "grid_auto_columns": null,
            "grid_auto_flow": null,
            "grid_auto_rows": null,
            "grid_column": null,
            "grid_gap": null,
            "grid_row": null,
            "grid_template_areas": null,
            "grid_template_columns": null,
            "grid_template_rows": null,
            "height": null,
            "justify_content": null,
            "justify_items": null,
            "left": null,
            "margin": null,
            "max_height": null,
            "max_width": null,
            "min_height": null,
            "min_width": null,
            "object_fit": null,
            "object_position": null,
            "order": null,
            "overflow": null,
            "overflow_x": null,
            "overflow_y": null,
            "padding": null,
            "right": null,
            "top": null,
            "visibility": null,
            "width": null
          }
        },
        "cece565bee834c8986d4e35a66b26bf7": {
          "model_module": "@jupyter-widgets/controls",
          "model_name": "ProgressStyleModel",
          "model_module_version": "1.5.0",
          "state": {
            "_model_module": "@jupyter-widgets/controls",
            "_model_module_version": "1.5.0",
            "_model_name": "ProgressStyleModel",
            "_view_count": null,
            "_view_module": "@jupyter-widgets/base",
            "_view_module_version": "1.2.0",
            "_view_name": "StyleView",
            "bar_color": null,
            "description_width": ""
          }
        },
        "4fdf67b429b2463c8e4008070ea1a707": {
          "model_module": "@jupyter-widgets/base",
          "model_name": "LayoutModel",
          "model_module_version": "1.2.0",
          "state": {
            "_model_module": "@jupyter-widgets/base",
            "_model_module_version": "1.2.0",
            "_model_name": "LayoutModel",
            "_view_count": null,
            "_view_module": "@jupyter-widgets/base",
            "_view_module_version": "1.2.0",
            "_view_name": "LayoutView",
            "align_content": null,
            "align_items": null,
            "align_self": null,
            "border": null,
            "bottom": null,
            "display": null,
            "flex": null,
            "flex_flow": null,
            "grid_area": null,
            "grid_auto_columns": null,
            "grid_auto_flow": null,
            "grid_auto_rows": null,
            "grid_column": null,
            "grid_gap": null,
            "grid_row": null,
            "grid_template_areas": null,
            "grid_template_columns": null,
            "grid_template_rows": null,
            "height": null,
            "justify_content": null,
            "justify_items": null,
            "left": null,
            "margin": null,
            "max_height": null,
            "max_width": null,
            "min_height": null,
            "min_width": null,
            "object_fit": null,
            "object_position": null,
            "order": null,
            "overflow": null,
            "overflow_x": null,
            "overflow_y": null,
            "padding": null,
            "right": null,
            "top": null,
            "visibility": null,
            "width": null
          }
        },
        "4b2b541e4456426a989b5afde04719c6": {
          "model_module": "@jupyter-widgets/controls",
          "model_name": "DescriptionStyleModel",
          "model_module_version": "1.5.0",
          "state": {
            "_model_module": "@jupyter-widgets/controls",
            "_model_module_version": "1.5.0",
            "_model_name": "DescriptionStyleModel",
            "_view_count": null,
            "_view_module": "@jupyter-widgets/base",
            "_view_module_version": "1.2.0",
            "_view_name": "StyleView",
            "description_width": ""
          }
        }
      }
    }
  },
  "cells": [
    {
      "cell_type": "code",
      "source": [
        "!python -m spacy download en_core_web_md -q\n",
        "!pip install gliner-spacy -q\n",
        "!pip install sentence-transformers -q"
      ],
      "metadata": {
        "colab": {
          "base_uri": "https://localhost:8080/"
        },
        "id": "Q40oPyuYdKxH",
        "outputId": "f340a69f-f7b2-48f6-9f43-b46a90c80094"
      },
      "execution_count": 5,
      "outputs": [
        {
          "output_type": "stream",
          "name": "stdout",
          "text": [
            "\u001b[2K     \u001b[90m━━━━━━━━━━━━━━━━━━━━━━━━━━━━━━━━━━━━━━━━\u001b[0m \u001b[32m42.8/42.8 MB\u001b[0m \u001b[31m12.6 MB/s\u001b[0m eta \u001b[36m0:00:00\u001b[0m\n",
            "\u001b[?25h\u001b[38;5;2m✔ Download and installation successful\u001b[0m\n",
            "You can now load the package via spacy.load('en_core_web_md')\n",
            "\u001b[38;5;3m⚠ Restart to reload dependencies\u001b[0m\n",
            "If you are in a Jupyter or Colab notebook, you may need to restart Python in\n",
            "order to load all the package's dependencies. You can do this by selecting the\n",
            "'Restart kernel' or 'Restart runtime' option.\n",
            "\u001b[2K   \u001b[90m━━━━━━━━━━━━━━━━━━━━━━━━━━━━━━━━━━━━━━━━\u001b[0m \u001b[32m42.1/42.1 kB\u001b[0m \u001b[31m704.9 kB/s\u001b[0m eta \u001b[36m0:00:00\u001b[0m\n",
            "\u001b[2K   \u001b[90m━━━━━━━━━━━━━━━━━━━━━━━━━━━━━━━━━━━━━━━━\u001b[0m \u001b[32m6.8/6.8 MB\u001b[0m \u001b[31m2.8 MB/s\u001b[0m eta \u001b[36m0:00:00\u001b[0m\n",
            "\u001b[2K   \u001b[90m━━━━━━━━━━━━━━━━━━━━━━━━━━━━━━━━━━━━━━━━\u001b[0m \u001b[32m46.0/46.0 kB\u001b[0m \u001b[31m1.9 MB/s\u001b[0m eta \u001b[36m0:00:00\u001b[0m\n",
            "\u001b[2K   \u001b[90m━━━━━━━━━━━━━━━━━━━━━━━━━━━━━━━━━━━━━━━━\u001b[0m \u001b[32m86.8/86.8 kB\u001b[0m \u001b[31m2.6 MB/s\u001b[0m eta \u001b[36m0:00:00\u001b[0m\n",
            "\u001b[2K   \u001b[90m━━━━━━━━━━━━━━━━━━━━━━━━━━━━━━━━━━━━━━━━\u001b[0m \u001b[32m227.1/227.1 kB\u001b[0m \u001b[31m1.9 MB/s\u001b[0m eta \u001b[36m0:00:00\u001b[0m\n",
            "\u001b[?25h"
          ]
        }
      ]
    },
    {
      "cell_type": "code",
      "source": [
        "import re\n",
        "from collections import Counter\n",
        "import spacy\n",
        "from gliner_spacy.pipeline import GlinerSpacy\n",
        "import pandas as pd\n",
        "from sentence_transformers import SentenceTransformer, util"
      ],
      "metadata": {
        "id": "56ZYMYPUOi_B"
      },
      "execution_count": 6,
      "outputs": []
    },
    {
      "cell_type": "markdown",
      "source": [
        "## Scoring functionality\n",
        "- the scoring should be broken down by three paragraphs\n",
        "- Paragraph 1:\n",
        "  - diagnosis has to match\n",
        "  - the biomarkers mentioned in the ground truth have to be mentioned in the generated paragraph\n",
        "  - there cannot be any extra biomarker mentioned in the ground truth that are mentioned in the generated summary\n",
        "  "
      ],
      "metadata": {
        "id": "aQdyjuW8Ptzk"
      }
    },
    {
      "cell_type": "markdown",
      "source": [
        "## User provides\n",
        "- diagnosis\n",
        "- biomarker-list\n",
        "- for example:\n",
        "  gene_dict = {\n",
        "    diagnosis: str | biomarkers: list\n",
        "  }\n",
        "## Ground truth\n",
        "- NER cancer diagnosis\n",
        "- NER biomarker biomarker-list also (comparing with whitelist)\n",
        "### issues\n",
        "- canine osteosarcoma vs osteosarcome\n",
        "\n",
        "\n"
      ],
      "metadata": {
        "id": "hf2ePx9iFRHe"
      }
    },
    {
      "cell_type": "code",
      "source": [
        "model = SentenceTransformer('all-MiniLM-L6-v2')\n",
        "gene_whitelist = ['AKT1', 'AKT3', 'ALK', 'APC', 'ARID1A', 'ASXL1', 'ATM', 'ATR', 'ATRX', 'BAP1', 'BARD1', 'BRAF', 'BRCA1', 'BRCA2', 'BRIP1', 'CALR', 'CBL', 'CCND1', \\\n",
        "                    'CCND2', 'CCND3', 'CCNE1', 'CDK12', 'CDK4', 'CDK6', 'CDKN2A', 'CDKN2B', 'CHEK1', 'CHEK2', 'CRKL', 'CTNNB1', 'DNMT3A', 'EGFR', 'ERBB2', 'ERRFI1', 'ESR1',\\\n",
        "                    'EZH2', 'FANCA', 'FANCC', 'FANCL', 'FBXW7', 'FGF3', 'FGFR1', 'FGFR2', 'FGFR3', 'FLCN', 'FLT3', 'GNAQ', 'GNAS', 'GNB1', 'HRAS', 'IDH1', 'IDH2', 'IKZF1', 'KDR', \\\n",
        "                    'KIT', 'KMT2D', 'KRAS', 'MAP2K1', 'MAP2K2', 'MAPK1', 'MDM2', 'MDM4', 'MEN1', 'MET', 'MLH1', 'MSH2', 'MSH3', 'MSH6', 'MTOR', 'MYC', 'MYCN', 'MYD88', 'NF1', 'NF2', 'NFE2L2',\\\n",
        "                    'NOTCH1', 'NPM1', 'NRAS', 'NT5C2', 'PALB2', 'PDGFRA', 'PIK3CA', 'PIK3R1', 'PMS2', 'POLE', 'POT1', 'PPP2R2A', 'PTCH1', 'PTEN', 'PTPN11', 'RAC1', 'RAD51B', 'RAD51C', 'RAD54L', 'RAF1',\\\n",
        "                    'RB1', 'REL', 'RET', 'RICTOR', 'RUNX1', 'SDHB', 'SDHD', 'SETD2', 'SF3B1', 'SMAD4', 'SMARCA4', 'SMARCB1', 'SMO', 'STK11', 'TET2', 'TP53', 'TRAF3', 'TSC1', 'TSC2', 'VEGFA', 'VHL']\n",
        "\n",
        "def diagnose_similarity(diag1, diag2, threshold=0.6):\n",
        "    if diag1 and diag2:\n",
        "        diag1 = diag1.strip()\n",
        "        diag2 = diag2.strip()\n",
        "        diag1_embedding = model.encode(diag1, convert_to_tensor=True)\n",
        "        diag2_embedding = model.encode(diag2, convert_to_tensor=True)\n",
        "        similarity = util.pytorch_cos_sim(diag1_embedding, diag2_embedding).item()\n",
        "        return similarity\n",
        "    return 0.0\n",
        "\n",
        "def score_para1(gene_dict, grnd_truth, whitelist):\n",
        "  comments = \"\"\n",
        "  score= 0\n",
        "  grn_biomarker_list = []\n",
        "  extra_biomarkers = []\n",
        "  missing_biomarkers = []\n",
        "  nlp = spacy.load(\"en_core_web_sm\")\n",
        "  ner = nlp.get_pipe(\"ner\")\n",
        "  nlp.add_pipe(\"gliner_spacy\", config={\"labels\":[\"cancer\",\"biomarkers\",\"gene\",\"drug\"]})\n",
        "  grd_ner = nlp(grnd_truth)\n",
        "  grd_entity_dict = {}\n",
        "  for ent in grd_ner.ents:\n",
        "    if ent.label_ not in grd_entity_dict:\n",
        "        grd_entity_dict[ent.label_] = []\n",
        "    grd_entity_dict[ent.label_].append(ent.text)\n",
        "  #establishing ground truth\n",
        "  grn_diag = re.search(r\"supports the diagnosis of (.+?)(?:\\.|$)\", grnd_truth).group(1)\n",
        "  grn_biomarker_list = [ent for ent in grd_entity_dict.get('gene', [])]\n",
        "  #comparing\n",
        "  gen_biomarker_list = gene_dict['biomarkers']\n",
        "  gen_diag = gene_dict['diagnosis']\n",
        "  intersection = list(set(grn_biomarker_list) & set(gen_biomarker_list))\n",
        "  missing_genes = [gene for gene in grn_biomarker_list if gene not in intersection]\n",
        "  extra_genes = [gene for gene in gen_biomarker_list if gene not in intersection]\n",
        "  #scoring\n",
        "  if diagnose_similarity(gene_dict['diagnosis'],grn_diag)>=0.6:\n",
        "    score+=1\n",
        "  else:\n",
        "    comments += \"Diagnosis  \"\n",
        "  if len(extra_genes)>0:\n",
        "    comments += \"Extra Biomarkers  \"\n",
        "  if len(missing_genes)>0:\n",
        "    comments += \"Missing Biomarkers  \"\n",
        "  if len(extra_genes)==0 and len(missing_genes)==0:\n",
        "    score+=1\n",
        "  score = score/2\n",
        "  return score, comments\n",
        "\n",
        "def score_para2(gene_dict, grnd_truth):\n",
        "  score = 0\n",
        "  comments = ''\n",
        "  nlp = spacy.load(\"en_core_web_sm\")\n",
        "  ner = nlp.get_pipe(\"ner\")\n",
        "  nlp.add_pipe(\"gliner_spacy\", config={\"labels\":[\"cancer\",\"biomarkers\",\"gene\",\"drug\"]})\n",
        "  grd_ner = nlp(grnd_truth)\n",
        "  grd_entity_dict = {}\n",
        "  for ent in grd_ner.ents:\n",
        "      if ent.label_ not in grd_entity_dict:\n",
        "          grd_entity_dict[ent.label_] = []\n",
        "      grd_entity_dict[ent.label_].append(ent.text)\n",
        "\n",
        "  for label, entities in grd_entity_dict.items():\n",
        "    print(f\"{label}: {entities}\")\n",
        "\n",
        "  # Normalize drug lists to lowercase and strip whitespace\n",
        "  grn_drug_list = [ent.strip().lower() for ent in grd_entity_dict.get('drug', [])]\n",
        "  gen_drug_list = [drug.strip().lower() for drug in gene_dict['drug']]\n",
        "\n",
        "  intersection = list(set(grn_drug_list) & set(gen_drug_list))\n",
        "  missing_drugs = [drug for drug in grn_drug_list if drug not in intersection]\n",
        "  extra_drugs = [drug for drug in gen_drug_list if drug not in intersection]\n",
        "\n",
        "  if len(extra_drugs)>0:\n",
        "    comments += \"Extra Drugs  \"\n",
        "  if len(missing_drugs)>0:\n",
        "    comments += \"Missing Drugs  \"\n",
        "  if len(extra_drugs)==0 and len(missing_drugs)==0:\n",
        "    score+=1\n",
        "  score = score/1\n",
        "  return score, comments\n",
        "\n",
        "def score_para3(gene_dict, grnd_truth):\n",
        "  score = 0\n",
        "  comments = \"\"\n",
        "  gen_para = gene_dict['mutation']\n",
        "\n",
        "  if gen_para == grnd_truth:\n",
        "    score+=1\n",
        "  else:\n",
        "    comments +='ABCB1-1delta detecttion'\n",
        "  score = score/1\n",
        "  return score, comments"
      ],
      "metadata": {
        "id": "dH4UOVbXKgPA"
      },
      "execution_count": 33,
      "outputs": []
    },
    {
      "cell_type": "markdown",
      "source": [
        "## Testing Paragraph 1\n",
        "- **Ground truth:**\n",
        "An integrated review of the genomic data, as well as clinical history and pathology review, supports the diagnosis of  osteosarcoma. Specifically, copy number losses of CDKN2B, as well as copy number gains of MDM2, KDR, KIT and PDGFRA have been frequently found in canine osteosarcoma.\n",
        "- **generated dict:** {'diagnosis':'osteosarcome', 'biomarkers':['CDKN2B','MDM2','PDGFRA','BRCA2']}\n"
      ],
      "metadata": {
        "id": "NicrrGiLqChI"
      }
    },
    {
      "cell_type": "code",
      "source": [
        "grnd_truth = \"An integrated review of the genomic data, as well as clinical history and pathology review, supports the diagnosis of  osteosarcoma. Specifically, copy number losses of CDKN2B, as well as copy number gains of MDM2, KDR, KIT and PDGFRA have been frequently found in canine osteosarcoma.\"\n",
        "para1 = {'diagnosis':'osteosarcome', 'biomarkers':['CDKN2B','MDM2','PDGFRA','BRCA2']}\n",
        "\n",
        "check = score_para1(para1, grnd_truth, gene_whitelist)\n",
        "score = check[0]\n",
        "comments = check[1]\n",
        "print(\"Score:\", score, \"Comments:\", comments) if comments else print(\"Score:\", score)\n"
      ],
      "metadata": {
        "colab": {
          "base_uri": "https://localhost:8080/",
          "height": 105,
          "referenced_widgets": [
            "f272e4d3ecdb4f5d90133a282dbf7572",
            "d14c35fe7f9841ce851a1c48d64a12a2",
            "49b9b21d86d644b6aca623d030e3e7b0",
            "fe1c34a25dae4766a8a975eabc1b9d97",
            "841798526d7c41ad8c4ac71b20bbaf46",
            "42123dabd5004dc999247cfe6e122192",
            "83c13bc64eb04bd481f047a341d102c9",
            "9912dcb8494748a6aa1fbb68a834073f",
            "e0e7385ca22b432fbe8bb920a9ef5f53",
            "8666033e7a90444191128020531f05a8",
            "1fef488ff0ca48e98724c65ea7884345"
          ]
        },
        "id": "9O5NQzGuix3U",
        "outputId": "903c73b5-4c00-4e2f-b385-08d33b4de0a8"
      },
      "execution_count": 23,
      "outputs": [
        {
          "output_type": "display_data",
          "data": {
            "text/plain": [
              "Fetching 4 files:   0%|          | 0/4 [00:00<?, ?it/s]"
            ],
            "application/vnd.jupyter.widget-view+json": {
              "version_major": 2,
              "version_minor": 0,
              "model_id": "f272e4d3ecdb4f5d90133a282dbf7572"
            }
          },
          "metadata": {}
        },
        {
          "output_type": "stream",
          "name": "stderr",
          "text": [
            "Asking to truncate to max_length but no maximum length is provided and the model has no predefined maximum length. Default to no truncation.\n"
          ]
        },
        {
          "output_type": "stream",
          "name": "stdout",
          "text": [
            "Score: 0.5 Comments: Extra Biomarkers  Missing Biomarkers  \n"
          ]
        }
      ]
    },
    {
      "cell_type": "markdown",
      "source": [
        "## Testing Paragraph 2\n",
        "- **Ground truth:**\n",
        "Notably, we identified mutations with therapeutic and prognostic associations based on FDA approval or well-powered studies in humans and/or dogs, as described on page 2. In addition, similar to Gly507Val, PTPN11 Gly507Ala is also a gain-of-function mutation that might be associated with sensitivity to trametinib based on a preclinical study. (PMID:32212266) Trametinib and sirolimus are available through veterinary compounding pharmacies. Monographs describing published data on the use of these agents in dogs are available upon request, or you can find them on our website (https://vidiumah.com/monographs/).\n",
        "- **generated dict:** {'drugs':['sirolimus','Trametinib']}"
      ],
      "metadata": {
        "id": "W1jDTSZzLsuD"
      }
    },
    {
      "cell_type": "code",
      "source": [
        "grnd_truth = \"Notably, we identified mutations with therapeutic and prognostic associations based on FDA approval or well-powered studies in humans and/or dogs, as described on page 2. In addition, similar to Gly507Val, PTPN11 Gly507Ala is also a gain-of-function mutation that might be associated with sensitivity to trametinib based on a preclinical study. (PMID:32212266) Trametinib and sirolimus are available through veterinary compounding pharmacies. Monographs describing published data on the use of these agents in dogs are available upon request, or you can find them on our website (https://vidiumah.com/monographs/).\"\n",
        "para2 = { 'drug':['sirolimus','trametinib']}\n",
        "\n",
        "check = score_para2(para2, grnd_truth)\n",
        "score = check[0]\n",
        "comments = check[1]\n",
        "print(\"Score:\", score, \"Comments:\", comments) if comments else print(\"Score:\", score)\n"
      ],
      "metadata": {
        "colab": {
          "base_uri": "https://localhost:8080/",
          "height": 140,
          "referenced_widgets": [
            "cb00ff594c554d42b9910729bbe5c4f4",
            "9b667281f05844fbb2f4632abb543876",
            "7127ce0a63244b6983c2a3a45872b281",
            "f307f95fad33413098acd845cb101714",
            "495e025ed0fb47be976e8c03c17551e3",
            "125271657d4443b988b04ba8437a13d3",
            "78262ae92261446c88a25a8298b50558",
            "6fe8521c16eb481f92b8acb9ded6d9a6",
            "cece565bee834c8986d4e35a66b26bf7",
            "4fdf67b429b2463c8e4008070ea1a707",
            "4b2b541e4456426a989b5afde04719c6"
          ]
        },
        "id": "_5kQ6Cc_fWBB",
        "outputId": "bc0d8672-824e-48b9-feb1-1b8998a5b32b"
      },
      "execution_count": 24,
      "outputs": [
        {
          "output_type": "display_data",
          "data": {
            "text/plain": [
              "Fetching 4 files:   0%|          | 0/4 [00:00<?, ?it/s]"
            ],
            "application/vnd.jupyter.widget-view+json": {
              "version_major": 2,
              "version_minor": 0,
              "model_id": "cb00ff594c554d42b9910729bbe5c4f4"
            }
          },
          "metadata": {}
        },
        {
          "output_type": "stream",
          "name": "stderr",
          "text": [
            "Asking to truncate to max_length but no maximum length is provided and the model has no predefined maximum length. Default to no truncation.\n"
          ]
        },
        {
          "output_type": "stream",
          "name": "stdout",
          "text": [
            "gene: ['PTPN11']\n",
            "drug: ['trametinib', 'Trametinib', 'sirolimus']\n",
            "Score: 1.0\n"
          ]
        }
      ]
    },
    {
      "cell_type": "markdown",
      "source": [
        "## Testing Paragraph 3\n",
        "- **Ground truth:**\n",
        "This test evaluated 120 cancer genes in the submitted sample. The ABCB1-1delta (MDR1-1delta) mutation was not detected, indicating that the patient is unlikely to experience the ABCB1-1delta-related adverse effects of chemotherapy.\n",
        "- **generated dict:** {'mutation':'This test evaluated 120 cancer genes in the submitted sample. The ABCB1-1delta (MDR1-1delta) mutation was not detected, indicating that the patient is unlikely to experience the ABCB1-1delta-related adverse effects of chemotherapy.'}"
      ],
      "metadata": {
        "id": "_FjSazi6RDrc"
      }
    },
    {
      "cell_type": "code",
      "source": [
        "grnd_truth = \"This test evaluated 120 cancer genes in the submitted sample. The ABCB1-1delta (MDR1-1delta) mutation was not detected, indicating that the patient is unlikely to experience the ABCB1-1delta-related adverse effects of chemotherapy.\"\n",
        "para3 = { 'mutation':'This test evaluated 120 cancer genes in the submitted sample. The ABCB1-1delta (MDR1-1delta) mutation was not detected, indicating that the patient is unlikely to experience the ABCB1-1delta-related adverse effects of chemotherapy.'}\n",
        "check = score_para3(para3, grnd_truth)\n",
        "score = check[0]\n",
        "comments = check[1]\n",
        "print(\"Score:\", score, \"Comments:\", comments) if comments else print(\"Score:\", score)"
      ],
      "metadata": {
        "colab": {
          "base_uri": "https://localhost:8080/"
        },
        "id": "q52azn-FQ1xl",
        "outputId": "9df3da35-8f21-40e9-bdea-6c88e3f7c994"
      },
      "execution_count": 35,
      "outputs": [
        {
          "output_type": "stream",
          "name": "stdout",
          "text": [
            "Score: 1.0\n"
          ]
        }
      ]
    }
  ]
}