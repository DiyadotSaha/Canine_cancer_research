{
 "cells": [
  {
   "cell_type": "code",
   "execution_count": 1,
   "id": "922148f2-4abe-4b4b-ba12-795d33bdd26a",
   "metadata": {},
   "outputs": [],
   "source": [
    "import os \n",
    "import pandas as pd"
   ]
  },
  {
   "cell_type": "code",
   "execution_count": 2,
   "id": "554d1a44-e06c-44ab-ac75-e622443347b5",
   "metadata": {},
   "outputs": [],
   "source": [
    "def extract_fpaths(dir_path):\n",
    "    list_fpaths = []\n",
    "    for f_path in os.listdir(dir_path):\n",
    "        f_name = f_path.split('_clinical_report')[0]\n",
    "        folder_path = os.path.join(dir_path, f\"{f_name}_clinical_report\")\n",
    "        ms_path = os.path.join(folder_path, f\"{f_name}_mutsumm.csv\")\n",
    "        list_fpaths.append(ms_path)\n",
    "    return list_fpaths\n"
   ]
  },
  {
   "cell_type": "code",
   "execution_count": 3,
   "id": "ebe407ba-6b39-4630-8d19-45f7164b4ed2",
   "metadata": {},
   "outputs": [],
   "source": [
    "def load_mutsumm_csv(f_path):\n",
    "    combined_df = pd.DataFrame()\n",
    "    df = pd.read_csv(f_path)\n",
    "    combined_df = pd.concat([combined_df, df], ignore_index=True)\n",
    "    return combined_df\n",
    "\n"
   ]
  },
  {
   "cell_type": "code",
   "execution_count": null,
   "id": "86f6a844-6437-4129-ae30-3f65f5669414",
   "metadata": {},
   "outputs": [],
   "source": []
  },
  {
   "cell_type": "code",
   "execution_count": 28,
   "id": "50d145f9-21e9-4a63-b536-9d28c4d4252e",
   "metadata": {},
   "outputs": [],
   "source": [
    "dir_path = 'Clinical_Reports'\n",
    "# list_files = extract_fpaths(dir_path)\n",
    "# for f in list_files[:1]:     \n",
    "#     df = load_mutsumm_csv(f)\n",
    "#     print(df)\n",
    "f_path = \"Clinical_Reports/SL23-000065_1_370_clinical_report/SL23-000065_1_370_mutsumm.csv\"\n",
    "df = load_mutsumm_csv(f_path)\n"
   ]
  },
  {
   "cell_type": "code",
   "execution_count": 29,
   "id": "00e33288-c42f-424f-b78e-81f5fd3ad78a",
   "metadata": {},
   "outputs": [
    {
     "data": {
      "text/html": [
       "<div>\n",
       "<style scoped>\n",
       "    .dataframe tbody tr th:only-of-type {\n",
       "        vertical-align: middle;\n",
       "    }\n",
       "\n",
       "    .dataframe tbody tr th {\n",
       "        vertical-align: top;\n",
       "    }\n",
       "\n",
       "    .dataframe thead th {\n",
       "        text-align: right;\n",
       "    }\n",
       "</style>\n",
       "<table border=\"1\" class=\"dataframe\">\n",
       "  <thead>\n",
       "    <tr style=\"text-align: right;\">\n",
       "      <th></th>\n",
       "      <th>gene</th>\n",
       "      <th>mutation</th>\n",
       "      <th>roles</th>\n",
       "      <th>variant_summary</th>\n",
       "    </tr>\n",
       "  </thead>\n",
       "  <tbody>\n",
       "    <tr>\n",
       "      <th>0</th>\n",
       "      <td>ABCB1</td>\n",
       "      <td>No ABCB1-1Δ Mutation</td>\n",
       "      <td>NaN</td>\n",
       "      <td>A polymorphism (referred to as ABCB1-1delta) o...</td>\n",
       "    </tr>\n",
       "    <tr>\n",
       "      <th>1</th>\n",
       "      <td>ATRX</td>\n",
       "      <td>Copy Number Loss</td>\n",
       "      <td>Diagnostic</td>\n",
       "      <td>The gene ATRX encodes for the \"ATRX Chromatin ...</td>\n",
       "    </tr>\n",
       "    <tr>\n",
       "      <th>2</th>\n",
       "      <td>TP53</td>\n",
       "      <td>p.Glu310Lys</td>\n",
       "      <td>Diagnostic</td>\n",
       "      <td>The gene TP53 encodes for the \"Tumor Protein P...</td>\n",
       "    </tr>\n",
       "    <tr>\n",
       "      <th>3</th>\n",
       "      <td>TRAF3</td>\n",
       "      <td>p.Arg159*</td>\n",
       "      <td>Diagnostic</td>\n",
       "      <td>The gene TRAF3 encodes for the \"TNF Receptor A...</td>\n",
       "    </tr>\n",
       "  </tbody>\n",
       "</table>\n",
       "</div>"
      ],
      "text/plain": [
       "    gene              mutation       roles  \\\n",
       "0  ABCB1  No ABCB1-1Δ Mutation         NaN   \n",
       "1   ATRX      Copy Number Loss  Diagnostic   \n",
       "2   TP53           p.Glu310Lys  Diagnostic   \n",
       "3  TRAF3             p.Arg159*  Diagnostic   \n",
       "\n",
       "                                     variant_summary  \n",
       "0  A polymorphism (referred to as ABCB1-1delta) o...  \n",
       "1  The gene ATRX encodes for the \"ATRX Chromatin ...  \n",
       "2  The gene TP53 encodes for the \"Tumor Protein P...  \n",
       "3  The gene TRAF3 encodes for the \"TNF Receptor A...  "
      ]
     },
     "execution_count": 29,
     "metadata": {},
     "output_type": "execute_result"
    }
   ],
   "source": [
    "df"
   ]
  },
  {
   "cell_type": "code",
   "execution_count": 30,
   "id": "fe5046dd-f4f7-4a6f-a99d-aa3f59378509",
   "metadata": {},
   "outputs": [],
   "source": [
    "def DNA_overview(df): \n",
    "    num_biomarkers = len(df['gene'].unique())\n",
    "    print(f\"{num_biomarkers} Biomarker(s) identified in the following genes:\")\n",
    "    filtered_df = df[df['roles'].notna()]\n",
    "    unique_genes = filtered_df['gene'].unique().tolist()\n",
    "    print(unique_genes)\n",
    "\n",
    "    cleaned_df = df\n",
    "    cleaned_df['roles'] = df['roles'].fillna('')\n",
    "    diagnostic_count = 0\n",
    "    prognostic_count = 0\n",
    "    for roles in cleaned_df['roles']:\n",
    "        if roles:\n",
    "            if 'Diagnostic' in roles:\n",
    "                diagnostic_count += 1\n",
    "            if 'Prognostic' in roles:\n",
    "                prognostic_count += 1\n",
    "    \n",
    "    print(f\"{diagnostic_count} Diagnostic Biomarkers\")\n",
    "    print(f\"{prognostic_count} Prognostic Biomarkers: \")\n",
    "            "
   ]
  },
  {
   "cell_type": "code",
   "execution_count": 31,
   "id": "81241404-09f8-4654-9e4b-1855cdf80ede",
   "metadata": {},
   "outputs": [
    {
     "name": "stdout",
     "output_type": "stream",
     "text": [
      "4 Biomarker(s) identified in the following genes:\n",
      "['ATRX', 'TP53', 'TRAF3']\n",
      "3 Diagnostic Biomarkers\n",
      "0 Prognostic Biomarkers: \n"
     ]
    }
   ],
   "source": [
    "DNA_overview(df)"
   ]
  },
  {
   "cell_type": "code",
   "execution_count": null,
   "id": "92dc0211-1891-4c26-a689-b84d47c5e0ee",
   "metadata": {},
   "outputs": [],
   "source": []
  }
 ],
 "metadata": {
  "kernelspec": {
   "display_name": "Python 3 (ipykernel)",
   "language": "python",
   "name": "python3"
  },
  "language_info": {
   "codemirror_mode": {
    "name": "ipython",
    "version": 3
   },
   "file_extension": ".py",
   "mimetype": "text/x-python",
   "name": "python",
   "nbconvert_exporter": "python",
   "pygments_lexer": "ipython3",
   "version": "3.11.7"
  }
 },
 "nbformat": 4,
 "nbformat_minor": 5
}
